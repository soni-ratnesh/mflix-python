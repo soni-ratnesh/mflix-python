{
 "cells": [
  {
   "cell_type": "code",
   "execution_count": null,
   "metadata": {},
   "outputs": [],
   "source": [
    "# import the pymongo library - this is the Python driver!\n",
    "import pymongo\n",
    "\n",
    "# replace \"uri\" with your Atlas URI string - should look like mongodb+srv://...\n",
    "uri = \"<your-atlas-uri>\"\n",
    "client = pymongo.MongoClient(uri)\n",
    "mflix = client.sample_mflix\n",
    "\n",
    "# movies is our collection handle - it refers to the sample_mflix.movies collection\n",
    "movies = mflix.movies"
   ]
  },
  {
   "cell_type": "code",
   "execution_count": null,
   "metadata": {},
   "outputs": [],
   "source": [
    "# find one document in the \"movies\" collection - does not matter which one\n",
    "movies.find_one()"
   ]
  },
  {
   "cell_type": "code",
   "execution_count": null,
   "metadata": {},
   "outputs": [],
   "source": [
    "# find one document in the \"movies\" collection - must have \"Salma Hayek\" in the \"cast\"\n",
    "movies.find_one( { \"cast\": \"Salma Hayek\" } )"
   ]
  },
  {
   "cell_type": "code",
   "execution_count": null,
   "metadata": {},
   "outputs": [],
   "source": [
    "# find all the documents in the \"movies\" collection with \"Salma Hayek\" in the \"cast\"\n",
    "# this returns a cursor, which IS a Python iterable, but is NOT a document!\n",
    "movies.find( { \"cast\": \"Salma Hayek\" } )"
   ]
  },
  {
   "cell_type": "code",
   "execution_count": null,
   "metadata": {},
   "outputs": [],
   "source": [
    "# return the count of movies with \"Salma Hayek\" in the \"cast\"\n",
    "movies.find( { \"cast\": \"Salma Hayek\" } ).count()"
   ]
  },
  {
   "cell_type": "code",
   "execution_count": null,
   "metadata": {},
   "outputs": [],
   "source": [
    "# find all movies with Salma Hayek\n",
    "# then pretty print\n",
    "cursor = movies.find( { \"cast\": \"Salma Hayek\" } )\n",
    "from bson.json_util import dumps\n",
    "print(dumps(cursor, indent=2))"
   ]
  },
  {
   "cell_type": "code",
   "execution_count": null,
   "metadata": {},
   "outputs": [],
   "source": [
    "# find all movies with Salma Hayek, but only project the \"_id\" and \"title\" fields\n",
    "cursor = movies.find( { \"cast\": \"Salma Hayek\" }, { \"title\": 1 } )\n",
    "print(dumps(cursor, indent=2))"
   ]
  },
  {
   "cell_type": "code",
   "execution_count": null,
   "metadata": {},
   "outputs": [],
   "source": [
    "# find all movies with Salma Hayek, but only project the \"title\" field\n",
    "cursor = movies.find( { \"cast\": \"Salma Hayek\" }, { \"title\": 1, \"_id\": 0 } )\n",
    "print(dumps(cursor, indent=2))"
   ]
  },
  {
   "cell_type": "code",
   "execution_count": null,
   "metadata": {},
   "outputs": [],
   "source": []
  }
 ],
 "metadata": {
  "kernelspec": {
   "display_name": "Python 3",
   "language": "python",
   "name": "python3"
  },
  "language_info": {
   "codemirror_mode": {
    "name": "ipython",
    "version": 3
   },
   "file_extension": ".py",
   "mimetype": "text/x-python",
   "name": "python",
   "nbconvert_exporter": "python",
   "pygments_lexer": "ipython3",
   "version": "3.7.2"
  }
 },
 "nbformat": 4,
 "nbformat_minor": 2
}
